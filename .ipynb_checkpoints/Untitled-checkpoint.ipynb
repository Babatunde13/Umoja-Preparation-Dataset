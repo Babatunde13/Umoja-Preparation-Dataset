{
 "cells": [
  {
   "cell_type": "code",
   "execution_count": null,
   "metadata": {},
   "outputs": [],
   "source": [
    "import pandas as pd\n",
    "import numpy as np\n",
    "from sklearn.preprocessing import StandardScaler, LabelEncoder\n",
    "from sklearn.model_selection import train_test_split, GridSearchCV\n",
    "from sklearn.pipeline import Pipeline\n",
    "from sklearn.ensemble import RandomForestClassifier"
   ]
  },
  {
   "cell_type": "code",
   "execution_count": null,
   "metadata": {},
   "outputs": [],
   "source": [
    "train = pd.read_csv('Train_v2.csv')\n",
    "test = pd.read_csv('Test_v2.csv')\n",
    "with open('umaja.ipynb', 'w') as f:\n",
    "    pass\n",
    "train.head()"
   ]
  },
  {
   "cell_type": "code",
   "execution_count": 6,
   "metadata": {},
   "outputs": [],
   "source": [
    "def id(data=train, col1='country', col2='uniqueid'):\n",
    "    lists = data.columns.to_list()\n",
    "    id = []\n",
    "    for i in data.values:\n",
    "        a = lists.index(col2)\n",
    "        i[a] += ' x '+ i[lists.index(col1)]\n",
    "        id.append(i[a])\n",
    "    \n",
    "    data.drop(col2, axis=1, inplace=True)\n",
    "    data[col2] = id\n",
    "#     data.set_index('id', inplace=True)"
   ]
  },
  {
   "cell_type": "code",
   "execution_count": 7,
   "metadata": {},
   "outputs": [],
   "source": [
    "id()"
   ]
  },
  {
   "cell_type": "code",
   "execution_count": 8,
   "metadata": {},
   "outputs": [
    {
     "data": {
      "text/html": [
       "<div>\n",
       "<style scoped>\n",
       "    .dataframe tbody tr th:only-of-type {\n",
       "        vertical-align: middle;\n",
       "    }\n",
       "\n",
       "    .dataframe tbody tr th {\n",
       "        vertical-align: top;\n",
       "    }\n",
       "\n",
       "    .dataframe thead th {\n",
       "        text-align: right;\n",
       "    }\n",
       "</style>\n",
       "<table border=\"1\" class=\"dataframe\">\n",
       "  <thead>\n",
       "    <tr style=\"text-align: right;\">\n",
       "      <th></th>\n",
       "      <th>country</th>\n",
       "      <th>year</th>\n",
       "      <th>bank_account</th>\n",
       "      <th>location_type</th>\n",
       "      <th>cellphone_access</th>\n",
       "      <th>household_size</th>\n",
       "      <th>age_of_respondent</th>\n",
       "      <th>gender_of_respondent</th>\n",
       "      <th>relationship_with_head</th>\n",
       "      <th>marital_status</th>\n",
       "      <th>education_level</th>\n",
       "      <th>job_type</th>\n",
       "      <th>uniqueid</th>\n",
       "    </tr>\n",
       "  </thead>\n",
       "  <tbody>\n",
       "    <tr>\n",
       "      <th>0</th>\n",
       "      <td>Kenya</td>\n",
       "      <td>2018</td>\n",
       "      <td>Yes</td>\n",
       "      <td>Rural</td>\n",
       "      <td>Yes</td>\n",
       "      <td>3</td>\n",
       "      <td>24</td>\n",
       "      <td>Female</td>\n",
       "      <td>Spouse</td>\n",
       "      <td>Married/Living together</td>\n",
       "      <td>Secondary education</td>\n",
       "      <td>Self employed</td>\n",
       "      <td>uniqueid_1 x Kenya</td>\n",
       "    </tr>\n",
       "    <tr>\n",
       "      <th>1</th>\n",
       "      <td>Kenya</td>\n",
       "      <td>2018</td>\n",
       "      <td>No</td>\n",
       "      <td>Rural</td>\n",
       "      <td>No</td>\n",
       "      <td>5</td>\n",
       "      <td>70</td>\n",
       "      <td>Female</td>\n",
       "      <td>Head of Household</td>\n",
       "      <td>Widowed</td>\n",
       "      <td>No formal education</td>\n",
       "      <td>Government Dependent</td>\n",
       "      <td>uniqueid_2 x Kenya</td>\n",
       "    </tr>\n",
       "    <tr>\n",
       "      <th>2</th>\n",
       "      <td>Kenya</td>\n",
       "      <td>2018</td>\n",
       "      <td>Yes</td>\n",
       "      <td>Urban</td>\n",
       "      <td>Yes</td>\n",
       "      <td>5</td>\n",
       "      <td>26</td>\n",
       "      <td>Male</td>\n",
       "      <td>Other relative</td>\n",
       "      <td>Single/Never Married</td>\n",
       "      <td>Vocational/Specialised training</td>\n",
       "      <td>Self employed</td>\n",
       "      <td>uniqueid_3 x Kenya</td>\n",
       "    </tr>\n",
       "    <tr>\n",
       "      <th>3</th>\n",
       "      <td>Kenya</td>\n",
       "      <td>2018</td>\n",
       "      <td>No</td>\n",
       "      <td>Rural</td>\n",
       "      <td>Yes</td>\n",
       "      <td>5</td>\n",
       "      <td>34</td>\n",
       "      <td>Female</td>\n",
       "      <td>Head of Household</td>\n",
       "      <td>Married/Living together</td>\n",
       "      <td>Primary education</td>\n",
       "      <td>Formally employed Private</td>\n",
       "      <td>uniqueid_4 x Kenya</td>\n",
       "    </tr>\n",
       "    <tr>\n",
       "      <th>4</th>\n",
       "      <td>Kenya</td>\n",
       "      <td>2018</td>\n",
       "      <td>No</td>\n",
       "      <td>Urban</td>\n",
       "      <td>No</td>\n",
       "      <td>8</td>\n",
       "      <td>26</td>\n",
       "      <td>Male</td>\n",
       "      <td>Child</td>\n",
       "      <td>Single/Never Married</td>\n",
       "      <td>Primary education</td>\n",
       "      <td>Informally employed</td>\n",
       "      <td>uniqueid_5 x Kenya</td>\n",
       "    </tr>\n",
       "  </tbody>\n",
       "</table>\n",
       "</div>"
      ],
      "text/plain": [
       "  country  year bank_account location_type cellphone_access  household_size  \\\n",
       "0   Kenya  2018          Yes         Rural              Yes               3   \n",
       "1   Kenya  2018           No         Rural               No               5   \n",
       "2   Kenya  2018          Yes         Urban              Yes               5   \n",
       "3   Kenya  2018           No         Rural              Yes               5   \n",
       "4   Kenya  2018           No         Urban               No               8   \n",
       "\n",
       "   age_of_respondent gender_of_respondent relationship_with_head  \\\n",
       "0                 24               Female                 Spouse   \n",
       "1                 70               Female      Head of Household   \n",
       "2                 26                 Male         Other relative   \n",
       "3                 34               Female      Head of Household   \n",
       "4                 26                 Male                  Child   \n",
       "\n",
       "            marital_status                  education_level  \\\n",
       "0  Married/Living together              Secondary education   \n",
       "1                  Widowed              No formal education   \n",
       "2     Single/Never Married  Vocational/Specialised training   \n",
       "3  Married/Living together                Primary education   \n",
       "4     Single/Never Married                Primary education   \n",
       "\n",
       "                    job_type            uniqueid  \n",
       "0              Self employed  uniqueid_1 x Kenya  \n",
       "1       Government Dependent  uniqueid_2 x Kenya  \n",
       "2              Self employed  uniqueid_3 x Kenya  \n",
       "3  Formally employed Private  uniqueid_4 x Kenya  \n",
       "4        Informally employed  uniqueid_5 x Kenya  "
      ]
     },
     "execution_count": 8,
     "metadata": {},
     "output_type": "execute_result"
    }
   ],
   "source": [
    "train.head()"
   ]
  },
  {
   "cell_type": "code",
   "execution_count": 9,
   "metadata": {},
   "outputs": [],
   "source": [
    "id(test)"
   ]
  },
  {
   "cell_type": "code",
   "execution_count": 10,
   "metadata": {},
   "outputs": [
    {
     "data": {
      "text/html": [
       "<div>\n",
       "<style scoped>\n",
       "    .dataframe tbody tr th:only-of-type {\n",
       "        vertical-align: middle;\n",
       "    }\n",
       "\n",
       "    .dataframe tbody tr th {\n",
       "        vertical-align: top;\n",
       "    }\n",
       "\n",
       "    .dataframe thead th {\n",
       "        text-align: right;\n",
       "    }\n",
       "</style>\n",
       "<table border=\"1\" class=\"dataframe\">\n",
       "  <thead>\n",
       "    <tr style=\"text-align: right;\">\n",
       "      <th></th>\n",
       "      <th>country</th>\n",
       "      <th>year</th>\n",
       "      <th>location_type</th>\n",
       "      <th>cellphone_access</th>\n",
       "      <th>household_size</th>\n",
       "      <th>age_of_respondent</th>\n",
       "      <th>gender_of_respondent</th>\n",
       "      <th>relationship_with_head</th>\n",
       "      <th>marital_status</th>\n",
       "      <th>education_level</th>\n",
       "      <th>job_type</th>\n",
       "      <th>uniqueid</th>\n",
       "    </tr>\n",
       "  </thead>\n",
       "  <tbody>\n",
       "    <tr>\n",
       "      <th>0</th>\n",
       "      <td>Kenya</td>\n",
       "      <td>2018</td>\n",
       "      <td>Urban</td>\n",
       "      <td>Yes</td>\n",
       "      <td>3</td>\n",
       "      <td>30</td>\n",
       "      <td>Male</td>\n",
       "      <td>Head of Household</td>\n",
       "      <td>Married/Living together</td>\n",
       "      <td>Secondary education</td>\n",
       "      <td>Formally employed Government</td>\n",
       "      <td>uniqueid_6056 x Kenya</td>\n",
       "    </tr>\n",
       "    <tr>\n",
       "      <th>1</th>\n",
       "      <td>Kenya</td>\n",
       "      <td>2018</td>\n",
       "      <td>Urban</td>\n",
       "      <td>Yes</td>\n",
       "      <td>7</td>\n",
       "      <td>51</td>\n",
       "      <td>Male</td>\n",
       "      <td>Head of Household</td>\n",
       "      <td>Married/Living together</td>\n",
       "      <td>Vocational/Specialised training</td>\n",
       "      <td>Formally employed Private</td>\n",
       "      <td>uniqueid_6060 x Kenya</td>\n",
       "    </tr>\n",
       "    <tr>\n",
       "      <th>2</th>\n",
       "      <td>Kenya</td>\n",
       "      <td>2018</td>\n",
       "      <td>Rural</td>\n",
       "      <td>No</td>\n",
       "      <td>3</td>\n",
       "      <td>77</td>\n",
       "      <td>Female</td>\n",
       "      <td>Parent</td>\n",
       "      <td>Married/Living together</td>\n",
       "      <td>No formal education</td>\n",
       "      <td>Remittance Dependent</td>\n",
       "      <td>uniqueid_6065 x Kenya</td>\n",
       "    </tr>\n",
       "    <tr>\n",
       "      <th>3</th>\n",
       "      <td>Kenya</td>\n",
       "      <td>2018</td>\n",
       "      <td>Rural</td>\n",
       "      <td>No</td>\n",
       "      <td>6</td>\n",
       "      <td>39</td>\n",
       "      <td>Female</td>\n",
       "      <td>Head of Household</td>\n",
       "      <td>Married/Living together</td>\n",
       "      <td>Primary education</td>\n",
       "      <td>Remittance Dependent</td>\n",
       "      <td>uniqueid_6072 x Kenya</td>\n",
       "    </tr>\n",
       "    <tr>\n",
       "      <th>4</th>\n",
       "      <td>Kenya</td>\n",
       "      <td>2018</td>\n",
       "      <td>Urban</td>\n",
       "      <td>No</td>\n",
       "      <td>3</td>\n",
       "      <td>16</td>\n",
       "      <td>Male</td>\n",
       "      <td>Child</td>\n",
       "      <td>Single/Never Married</td>\n",
       "      <td>Secondary education</td>\n",
       "      <td>Remittance Dependent</td>\n",
       "      <td>uniqueid_6073 x Kenya</td>\n",
       "    </tr>\n",
       "  </tbody>\n",
       "</table>\n",
       "</div>"
      ],
      "text/plain": [
       "  country  year location_type cellphone_access  household_size  \\\n",
       "0   Kenya  2018         Urban              Yes               3   \n",
       "1   Kenya  2018         Urban              Yes               7   \n",
       "2   Kenya  2018         Rural               No               3   \n",
       "3   Kenya  2018         Rural               No               6   \n",
       "4   Kenya  2018         Urban               No               3   \n",
       "\n",
       "   age_of_respondent gender_of_respondent relationship_with_head  \\\n",
       "0                 30                 Male      Head of Household   \n",
       "1                 51                 Male      Head of Household   \n",
       "2                 77               Female                 Parent   \n",
       "3                 39               Female      Head of Household   \n",
       "4                 16                 Male                  Child   \n",
       "\n",
       "            marital_status                  education_level  \\\n",
       "0  Married/Living together              Secondary education   \n",
       "1  Married/Living together  Vocational/Specialised training   \n",
       "2  Married/Living together              No formal education   \n",
       "3  Married/Living together                Primary education   \n",
       "4     Single/Never Married              Secondary education   \n",
       "\n",
       "                       job_type               uniqueid  \n",
       "0  Formally employed Government  uniqueid_6056 x Kenya  \n",
       "1     Formally employed Private  uniqueid_6060 x Kenya  \n",
       "2          Remittance Dependent  uniqueid_6065 x Kenya  \n",
       "3          Remittance Dependent  uniqueid_6072 x Kenya  \n",
       "4          Remittance Dependent  uniqueid_6073 x Kenya  "
      ]
     },
     "execution_count": 10,
     "metadata": {},
     "output_type": "execute_result"
    }
   ],
   "source": [
    "test.head()"
   ]
  },
  {
   "cell_type": "code",
   "execution_count": 11,
   "metadata": {},
   "outputs": [],
   "source": [
    "def categorical_visualiser(y,x='bank_account', data=train):\n",
    "    new_data = data.groupby([x, y])[x].count().unstack(y)\n",
    "    new_data.plot(kind='bar', stacked=False)"
   ]
  },
  {
   "cell_type": "code",
   "execution_count": 12,
   "metadata": {},
   "outputs": [],
   "source": [
    "categorical_visualiser('country')"
   ]
  },
  {
   "cell_type": "markdown",
   "metadata": {},
   "source": [
    "# categorical_visualiser('year')\n",
    "\n",
    "for i in train.columns:\n",
    "    if i != 'bank_account':\n",
    "        categorical_visualiser(i)"
   ]
  },
  {
   "cell_type": "code",
   "execution_count": 13,
   "metadata": {},
   "outputs": [
    {
     "data": {
      "image/png": "[encoded data removed]",
      "text/plain": [
       "<matplotlib.figure.Figure at 0x9d4fc10>"
      ]
     },
     "metadata": {},
     "output_type": "display_data"
    }
   ],
   "source": [
    "categorical_visualiser('location_type')"
   ]
  },
  {
   "cell_type": "code",
   "execution_count": 14,
   "metadata": {},
   "outputs": [
    {
     "data": {
      "text/html": [
       "<div>\n",
       "<style scoped>\n",
       "    .dataframe tbody tr th:only-of-type {\n",
       "        vertical-align: middle;\n",
       "    }\n",
       "\n",
       "    .dataframe tbody tr th {\n",
       "        vertical-align: top;\n",
       "    }\n",
       "\n",
       "    .dataframe thead th {\n",
       "        text-align: right;\n",
       "    }\n",
       "</style>\n",
       "<table border=\"1\" class=\"dataframe\">\n",
       "  <thead>\n",
       "    <tr style=\"text-align: right;\">\n",
       "      <th></th>\n",
       "      <th>train data</th>\n",
       "      <th>test data</th>\n",
       "    </tr>\n",
       "  </thead>\n",
       "  <tbody>\n",
       "    <tr>\n",
       "      <th>country</th>\n",
       "      <td>0</td>\n",
       "      <td>0.0</td>\n",
       "    </tr>\n",
       "    <tr>\n",
       "      <th>year</th>\n",
       "      <td>0</td>\n",
       "      <td>0.0</td>\n",
       "    </tr>\n",
       "    <tr>\n",
       "      <th>bank_account</th>\n",
       "      <td>0</td>\n",
       "      <td>NaN</td>\n",
       "    </tr>\n",
       "    <tr>\n",
       "      <th>location_type</th>\n",
       "      <td>0</td>\n",
       "      <td>0.0</td>\n",
       "    </tr>\n",
       "    <tr>\n",
       "      <th>cellphone_access</th>\n",
       "      <td>0</td>\n",
       "      <td>0.0</td>\n",
       "    </tr>\n",
       "    <tr>\n",
       "      <th>household_size</th>\n",
       "      <td>0</td>\n",
       "      <td>0.0</td>\n",
       "    </tr>\n",
       "    <tr>\n",
       "      <th>age_of_respondent</th>\n",
       "      <td>0</td>\n",
       "      <td>0.0</td>\n",
       "    </tr>\n",
       "    <tr>\n",
       "      <th>gender_of_respondent</th>\n",
       "      <td>0</td>\n",
       "      <td>0.0</td>\n",
       "    </tr>\n",
       "    <tr>\n",
       "      <th>relationship_with_head</th>\n",
       "      <td>0</td>\n",
       "      <td>0.0</td>\n",
       "    </tr>\n",
       "    <tr>\n",
       "      <th>marital_status</th>\n",
       "      <td>0</td>\n",
       "      <td>0.0</td>\n",
       "    </tr>\n",
       "    <tr>\n",
       "      <th>education_level</th>\n",
       "      <td>0</td>\n",
       "      <td>0.0</td>\n",
       "    </tr>\n",
       "    <tr>\n",
       "      <th>job_type</th>\n",
       "      <td>0</td>\n",
       "      <td>0.0</td>\n",
       "    </tr>\n",
       "    <tr>\n",
       "      <th>uniqueid</th>\n",
       "      <td>0</td>\n",
       "      <td>0.0</td>\n",
       "    </tr>\n",
       "  </tbody>\n",
       "</table>\n",
       "</div>"
      ],
      "text/plain": [
       "                        train data  test data\n",
       "country                          0        0.0\n",
       "year                             0        0.0\n",
       "bank_account                     0        NaN\n",
       "location_type                    0        0.0\n",
       "cellphone_access                 0        0.0\n",
       "household_size                   0        0.0\n",
       "age_of_respondent                0        0.0\n",
       "gender_of_respondent             0        0.0\n",
       "relationship_with_head           0        0.0\n",
       "marital_status                   0        0.0\n",
       "education_level                  0        0.0\n",
       "job_type                         0        0.0\n",
       "uniqueid                         0        0.0"
      ]
     },
     "execution_count": 14,
     "metadata": {},
     "output_type": "execute_result"
    }
   ],
   "source": [
    "is_missing = pd.concat([train.isnull().sum(), test.isnull().sum()], axis=1)\n",
    "is_missing.columns = ['train data', 'test data']\n",
    "is_missing"
   ]
  },
  {
   "cell_type": "code",
   "execution_count": 15,
   "metadata": {},
   "outputs": [
    {
     "name": "stdout",
     "output_type": "stream",
     "text": [
      "######################\n",
      "country\n",
      "Rwanda      8735\n",
      "Tanzania    6620\n",
      "Kenya       6068\n",
      "Uganda      2101\n",
      "Name: country, dtype: int64\n",
      "######################\n",
      "\n",
      "######################\n",
      "year\n",
      "2016    8735\n",
      "2018    8169\n",
      "2017    6620\n",
      "Name: year, dtype: int64\n",
      "######################\n",
      "\n",
      "######################\n",
      "bank_account\n",
      "No     20212\n",
      "Yes     3312\n",
      "Name: bank_account, dtype: int64\n",
      "######################\n",
      "\n",
      "######################\n",
      "location_type\n",
      "Rural    14343\n",
      "Urban     9181\n",
      "Name: location_type, dtype: int64\n",
      "######################\n",
      "\n",
      "######################\n",
      "cellphone_access\n",
      "Yes    17454\n",
      "No      6070\n",
      "Name: cellphone_access, dtype: int64\n",
      "######################\n",
      "\n",
      "######################\n",
      "household_size\n",
      "2     5229\n",
      "3     3920\n",
      "4     3474\n",
      "1     3057\n",
      "5     2853\n",
      "6     2096\n",
      "7     1400\n",
      "8      751\n",
      "9      363\n",
      "10     190\n",
      "11      69\n",
      "12      68\n",
      "13      25\n",
      "15      11\n",
      "14      10\n",
      "16       4\n",
      "18       1\n",
      "17       1\n",
      "20       1\n",
      "21       1\n",
      "Name: household_size, dtype: int64\n",
      "######################\n",
      "\n",
      "######################\n",
      "age_of_respondent\n",
      "30    1056\n",
      "35     836\n",
      "25     792\n",
      "28     748\n",
      "32     715\n",
      "      ... \n",
      "91       5\n",
      "93       4\n",
      "96       3\n",
      "99       2\n",
      "97       1\n",
      "Name: age_of_respondent, Length: 85, dtype: int64\n",
      "######################\n",
      "\n",
      "######################\n",
      "gender_of_respondent\n",
      "Female    13877\n",
      "Male       9647\n",
      "Name: gender_of_respondent, dtype: int64\n",
      "######################\n",
      "\n",
      "######################\n",
      "relationship_with_head\n",
      "Head of Household      12831\n",
      "Spouse                  6520\n",
      "Child                   2229\n",
      "Parent                  1086\n",
      "Other relative           668\n",
      "Other non-relatives      190\n",
      "Name: relationship_with_head, dtype: int64\n",
      "######################\n",
      "\n",
      "######################\n",
      "marital_status\n",
      "Married/Living together    10749\n",
      "Single/Never Married        7983\n",
      "Widowed                     2708\n",
      "Divorced/Seperated          2076\n",
      "Dont know                      8\n",
      "Name: marital_status, dtype: int64\n",
      "######################\n",
      "\n",
      "######################\n",
      "education_level\n",
      "Primary education                  12791\n",
      "No formal education                 4515\n",
      "Secondary education                 4223\n",
      "Tertiary education                  1157\n",
      "Vocational/Specialised training      803\n",
      "Other/Dont know/RTA                   35\n",
      "Name: education_level, dtype: int64\n",
      "######################\n",
      "\n",
      "######################\n",
      "job_type\n",
      "Self employed                   6437\n",
      "Informally employed             5597\n",
      "Farming and Fishing             5441\n",
      "Remittance Dependent            2527\n",
      "Other Income                    1080\n",
      "Formally employed Private       1055\n",
      "No Income                        627\n",
      "Formally employed Government     387\n",
      "Government Dependent             247\n",
      "Dont Know/Refuse to answer       126\n",
      "Name: job_type, dtype: int64\n",
      "######################\n",
      "\n",
      "######################\n",
      "uniqueid\n",
      "uniqueid_523 x Kenya        1\n",
      "uniqueid_3861 x Kenya       1\n",
      "uniqueid_1417 x Tanzania    1\n",
      "uniqueid_2231 x Kenya       1\n",
      "uniqueid_2131 x Tanzania    1\n",
      "                           ..\n",
      "uniqueid_5463 x Tanzania    1\n",
      "uniqueid_6164 x Tanzania    1\n",
      "uniqueid_5880 x Rwanda      1\n",
      "uniqueid_1143 x Tanzania    1\n",
      "uniqueid_6694 x Rwanda      1\n",
      "Name: uniqueid, Length: 23524, dtype: int64\n",
      "######################\n",
      "\n"
     ]
    }
   ],
   "source": [
    "for val in train:\n",
    "    print('######################')\n",
    "    print(val)\n",
    "    print(train[val].value_counts())\n",
    "    print('######################')\n",
    "    print('')"
   ]
  },
  {
   "cell_type": "code",
   "execution_count": 16,
   "metadata": {},
   "outputs": [],
   "source": [
    "encode = LabelEncoder()\n",
    "def feature(data=train, never_encode = 'uniqueid'):\n",
    "    new_int = []\n",
    "    new_obj = []\n",
    "    for i in data:\n",
    "        if data[i].dtypes == 'object' and i != never_encode:\n",
    "            new_obj.append(i)\n",
    "            \n",
    "    for i in data:\n",
    "        if i in new_obj:\n",
    "            data[i] = encode.fit_transform(data[i])\n",
    "            \n",
    "    return data"
   ]
  },
  {
   "cell_type": "code",
   "execution_count": 17,
   "metadata": {},
   "outputs": [],
   "source": [
    "train = feature()\n",
    "test = feature(data=test)\n",
    "\n",
    "y = train['bank_account']\n",
    "X = train.drop(['bank_account', 'uniqueid'], axis=1)"
   ]
  },
  {
   "cell_type": "code",
   "execution_count": 18,
   "metadata": {},
   "outputs": [
    {
     "data": {
      "text/html": [
       "<div>\n",
       "<style scoped>\n",
       "    .dataframe tbody tr th:only-of-type {\n",
       "        vertical-align: middle;\n",
       "    }\n",
       "\n",
       "    .dataframe tbody tr th {\n",
       "        vertical-align: top;\n",
       "    }\n",
       "\n",
       "    .dataframe thead th {\n",
       "        text-align: right;\n",
       "    }\n",
       "</style>\n",
       "<table border=\"1\" class=\"dataframe\">\n",
       "  <thead>\n",
       "    <tr style=\"text-align: right;\">\n",
       "      <th></th>\n",
       "      <th>country</th>\n",
       "      <th>year</th>\n",
       "      <th>bank_account</th>\n",
       "      <th>location_type</th>\n",
       "      <th>cellphone_access</th>\n",
       "      <th>household_size</th>\n",
       "      <th>age_of_respondent</th>\n",
       "      <th>gender_of_respondent</th>\n",
       "      <th>relationship_with_head</th>\n",
       "      <th>marital_status</th>\n",
       "      <th>education_level</th>\n",
       "      <th>job_type</th>\n",
       "      <th>uniqueid</th>\n",
       "    </tr>\n",
       "  </thead>\n",
       "  <tbody>\n",
       "    <tr>\n",
       "      <th>0</th>\n",
       "      <td>0</td>\n",
       "      <td>2018</td>\n",
       "      <td>1</td>\n",
       "      <td>0</td>\n",
       "      <td>1</td>\n",
       "      <td>3</td>\n",
       "      <td>24</td>\n",
       "      <td>0</td>\n",
       "      <td>5</td>\n",
       "      <td>2</td>\n",
       "      <td>3</td>\n",
       "      <td>9</td>\n",
       "      <td>uniqueid_1 x Kenya</td>\n",
       "    </tr>\n",
       "    <tr>\n",
       "      <th>1</th>\n",
       "      <td>0</td>\n",
       "      <td>2018</td>\n",
       "      <td>0</td>\n",
       "      <td>0</td>\n",
       "      <td>0</td>\n",
       "      <td>5</td>\n",
       "      <td>70</td>\n",
       "      <td>0</td>\n",
       "      <td>1</td>\n",
       "      <td>4</td>\n",
       "      <td>0</td>\n",
       "      <td>4</td>\n",
       "      <td>uniqueid_2 x Kenya</td>\n",
       "    </tr>\n",
       "    <tr>\n",
       "      <th>2</th>\n",
       "      <td>0</td>\n",
       "      <td>2018</td>\n",
       "      <td>1</td>\n",
       "      <td>1</td>\n",
       "      <td>1</td>\n",
       "      <td>5</td>\n",
       "      <td>26</td>\n",
       "      <td>1</td>\n",
       "      <td>3</td>\n",
       "      <td>3</td>\n",
       "      <td>5</td>\n",
       "      <td>9</td>\n",
       "      <td>uniqueid_3 x Kenya</td>\n",
       "    </tr>\n",
       "    <tr>\n",
       "      <th>3</th>\n",
       "      <td>0</td>\n",
       "      <td>2018</td>\n",
       "      <td>0</td>\n",
       "      <td>0</td>\n",
       "      <td>1</td>\n",
       "      <td>5</td>\n",
       "      <td>34</td>\n",
       "      <td>0</td>\n",
       "      <td>1</td>\n",
       "      <td>2</td>\n",
       "      <td>2</td>\n",
       "      <td>3</td>\n",
       "      <td>uniqueid_4 x Kenya</td>\n",
       "    </tr>\n",
       "    <tr>\n",
       "      <th>4</th>\n",
       "      <td>0</td>\n",
       "      <td>2018</td>\n",
       "      <td>0</td>\n",
       "      <td>1</td>\n",
       "      <td>0</td>\n",
       "      <td>8</td>\n",
       "      <td>26</td>\n",
       "      <td>1</td>\n",
       "      <td>0</td>\n",
       "      <td>3</td>\n",
       "      <td>2</td>\n",
       "      <td>5</td>\n",
       "      <td>uniqueid_5 x Kenya</td>\n",
       "    </tr>\n",
       "  </tbody>\n",
       "</table>\n",
       "</div>"
      ],
      "text/plain": [
       "   country  year  bank_account  location_type  cellphone_access  \\\n",
       "0        0  2018             1              0                 1   \n",
       "1        0  2018             0              0                 0   \n",
       "2        0  2018             1              1                 1   \n",
       "3        0  2018             0              0                 1   \n",
       "4        0  2018             0              1                 0   \n",
       "\n",
       "   household_size  age_of_respondent  gender_of_respondent  \\\n",
       "0               3                 24                     0   \n",
       "1               5                 70                     0   \n",
       "2               5                 26                     1   \n",
       "3               5                 34                     0   \n",
       "4               8                 26                     1   \n",
       "\n",
       "   relationship_with_head  marital_status  education_level  job_type  \\\n",
       "0                       5               2                3         9   \n",
       "1                       1               4                0         4   \n",
       "2                       3               3                5         9   \n",
       "3                       1               2                2         3   \n",
       "4                       0               3                2         5   \n",
       "\n",
       "             uniqueid  \n",
       "0  uniqueid_1 x Kenya  \n",
       "1  uniqueid_2 x Kenya  \n",
       "2  uniqueid_3 x Kenya  \n",
       "3  uniqueid_4 x Kenya  \n",
       "4  uniqueid_5 x Kenya  "
      ]
     },
     "execution_count": 18,
     "metadata": {},
     "output_type": "execute_result"
    }
   ],
   "source": [
    "train.head()"
   ]
  },
  {
   "cell_type": "code",
   "execution_count": 19,
   "metadata": {},
   "outputs": [
    {
     "name": "stdout",
     "output_type": "stream",
     "text": [
      "Fitting 5 folds for each of 81 candidates, totalling 405 fits\n"
     ]
    },
    {
     "name": "stderr",
     "output_type": "stream",
     "text": [
      "[Parallel(n_jobs=1)]: Using backend SequentialBackend with 1 concurrent workers.\n",
      "[Parallel(n_jobs=1)]: Done 405 out of 405 | elapsed:   51.1s finished\n"
     ]
    },
    {
     "data": {
      "text/plain": [
       "GridSearchCV(cv=5, error_score='raise-deprecating',\n",
       "             estimator=RandomForestClassifier(bootstrap=True, class_weight=None,\n",
       "                                              criterion='gini', max_depth=None,\n",
       "                                              max_features='auto',\n",
       "                                              max_leaf_nodes=None,\n",
       "                                              min_impurity_decrease=0.0,\n",
       "                                              min_impurity_split=None,\n",
       "                                              min_samples_leaf=1,\n",
       "                                              min_samples_split=2,\n",
       "                                              min_weight_fraction_leaf=0.0,\n",
       "                                              n_estimators='warn', n_jobs=None,\n",
       "                                              oob_score=False,\n",
       "                                              random_state=None, verbose=0,\n",
       "                                              warm_start=False),\n",
       "             iid='warn', n_jobs=None,\n",
       "             param_grid={'max_depth': range(1, 10),\n",
       "                         'n_estimators': range(1, 10)},\n",
       "             pre_dispatch='2*n_jobs', refit=True, return_train_score=False,\n",
       "             scoring=None, verbose=True)"
      ]
     },
     "execution_count": 19,
     "metadata": {},
     "output_type": "execute_result"
    }
   ],
   "source": [
    "grid = GridSearchCV(\n",
    "    RandomForestClassifier(),\n",
    "    param_grid={'n_estimators': range(1, 10), 'max_depth':range(1, 10)}, \n",
    "    cv=5,\n",
    "    verbose=True)\n",
    "\n",
    "grid.fit(X, y)"
   ]
  },
  {
   "cell_type": "code",
   "execution_count": 20,
   "metadata": {},
   "outputs": [
    {
     "data": {
      "text/plain": [
       "0.8621833021594967"
      ]
     },
     "execution_count": 20,
     "metadata": {},
     "output_type": "execute_result"
    }
   ],
   "source": [
    "grid.score(X, y)"
   ]
  },
  {
   "cell_type": "code",
   "execution_count": 21,
   "metadata": {},
   "outputs": [
    {
     "data": {
      "text/plain": [
       "RandomForestClassifier(bootstrap=True, class_weight=None, criterion='gini',\n",
       "                       max_depth=3, max_features='auto', max_leaf_nodes=None,\n",
       "                       min_impurity_decrease=0.0, min_impurity_split=None,\n",
       "                       min_samples_leaf=1, min_samples_split=2,\n",
       "                       min_weight_fraction_leaf=0.0, n_estimators=9,\n",
       "                       n_jobs=None, oob_score=False, random_state=None,\n",
       "                       verbose=0, warm_start=False)"
      ]
     },
     "execution_count": 21,
     "metadata": {},
     "output_type": "execute_result"
    }
   ],
   "source": [
    "grid.best_estimator_"
   ]
  },
  {
   "cell_type": "code",
   "execution_count": 22,
   "metadata": {},
   "outputs": [
    {
     "name": "stderr",
     "output_type": "stream",
     "text": [
      "C:\\Users\\user\\Anaconda3\\lib\\site-packages\\sklearn\\ensemble\\forest.py:245: FutureWarning: The default value of n_estimators will change from 10 in version 0.20 to 100 in 0.22.\n",
      "  \"10 in version 0.20 to 100 in 0.22.\", FutureWarning)\n"
     ]
    },
    {
     "data": {
      "text/plain": [
       "array([1, 1, 0, ..., 0, 0, 0])"
      ]
     },
     "execution_count": 22,
     "metadata": {},
     "output_type": "execute_result"
    }
   ],
   "source": [
    "pred = RandomForestClassifier().fit(X, y).predict(test.drop('uniqueid', axis=1))\n",
    "pred"
   ]
  },
  {
   "cell_type": "code",
   "execution_count": 23,
   "metadata": {},
   "outputs": [],
   "source": [
    "def creatsub(clf, filename, Xtest= test, X=X, y=y):\n",
    "    clf.fit(X, y)\n",
    "    pred = clf.predict(Xtest.drop('uniqueid', axis=1))\n",
    "    test_label = pd.DataFrame({'uniqueid': Xtest.uniqueid, 'bank_account':pred })\n",
    "    test_label.set_index(['uniqueid'], inplace=True)\n",
    "    test_label.bank_account = test_label.bank_account.astype(int)\n",
    "    test_label.to_csv(filename)"
   ]
  },
  {
   "cell_type": "code",
   "execution_count": 24,
   "metadata": {},
   "outputs": [],
   "source": [
    "pred = grid.score(test.drop('uniqueid', axis=1), grid.predict(test.drop('uniqueid', axis=1)))"
   ]
  },
  {
   "cell_type": "code",
   "execution_count": 25,
   "metadata": {},
   "outputs": [],
   "source": [
    "from sklearn.linear_model import LinearRegression\n",
    "from sklearn.svm import SVC\n",
    "from sklearn.naive_bayes import MultinomialNB"
   ]
  },
  {
   "cell_type": "code",
   "execution_count": 26,
   "metadata": {},
   "outputs": [
    {
     "name": "stderr",
     "output_type": "stream",
     "text": [
      "C:\\Users\\user\\Anaconda3\\lib\\site-packages\\sklearn\\svm\\base.py:193: FutureWarning: The default value of gamma will change from 'auto' to 'scale' in version 0.22 to account better for unscaled features. Set gamma explicitly to 'auto' or 'scale' to avoid this warning.\n",
      "  \"avoid this warning.\", FutureWarning)\n"
     ]
    },
    {
     "data": {
      "text/plain": [
       "MultinomialNB(alpha=1.0, class_prior=None, fit_prior=True)"
      ]
     },
     "execution_count": 26,
     "metadata": {},
     "output_type": "execute_result"
    }
   ],
   "source": [
    "lr = LinearRegression()\n",
    "svc = SVC()\n",
    "clf = MultinomialNB()\n",
    "\n",
    "\n",
    "lr.fit(X, y)\n",
    "svc.fit(X, y)\n",
    "clf.fit(X, y)"
   ]
  },
  {
   "cell_type": "code",
   "execution_count": 27,
   "metadata": {},
   "outputs": [],
   "source": [
    "creatsub(RandomForestClassifier(n_estimators=2), 'submission_file_rfc')"
   ]
  },
  {
   "cell_type": "code",
   "execution_count": 28,
   "metadata": {},
   "outputs": [],
   "source": [
    "creatsub(lr, 'submission_file_lr')"
   ]
  },
  {
   "cell_type": "code",
   "execution_count": 29,
   "metadata": {},
   "outputs": [
    {
     "name": "stderr",
     "output_type": "stream",
     "text": [
      "C:\\Users\\user\\Anaconda3\\lib\\site-packages\\sklearn\\svm\\base.py:193: FutureWarning: The default value of gamma will change from 'auto' to 'scale' in version 0.22 to account better for unscaled features. Set gamma explicitly to 'auto' or 'scale' to avoid this warning.\n",
      "  \"avoid this warning.\", FutureWarning)\n"
     ]
    }
   ],
   "source": [
    "creatsub(svc, 'submission_file_svc')"
   ]
  },
  {
   "cell_type": "code",
   "execution_count": 30,
   "metadata": {},
   "outputs": [],
   "source": [
    "creatsub(clf, 'submission_file_clf')"
   ]
  },
  {
   "cell_type": "code",
   "execution_count": 31,
   "metadata": {},
   "outputs": [
    {
     "data": {
      "text/plain": [
       "array([0.38778508, 0.60463032, 0.02038128, ..., 0.26383117, 0.0211758 ,\n",
       "       0.1787514 ])"
      ]
     },
     "execution_count": 31,
     "metadata": {},
     "output_type": "execute_result"
    }
   ],
   "source": [
    "lr.predict(test.drop('uniqueid', axis=1))"
   ]
  },
  {
   "cell_type": "code",
   "execution_count": 32,
   "metadata": {},
   "outputs": [
    {
     "data": {
      "text/plain": [
       "array([1, 1, 0, ..., 0, 0, 0])"
      ]
     },
     "execution_count": 32,
     "metadata": {},
     "output_type": "execute_result"
    }
   ],
   "source": [
    "svc.predict(test.drop('uniqueid', axis=1))"
   ]
  },
  {
   "cell_type": "code",
   "execution_count": 33,
   "metadata": {},
   "outputs": [
    {
     "data": {
      "text/plain": [
       "array([0, 1, 0, ..., 0, 0, 0])"
      ]
     },
     "execution_count": 33,
     "metadata": {},
     "output_type": "execute_result"
    }
   ],
   "source": [
    "clf.predict(test.drop('uniqueid', axis=1))"
   ]
  },
  {
   "cell_type": "code",
   "execution_count": 34,
   "metadata": {},
   "outputs": [],
   "source": [
    "out = pd.DataFrame({\n",
    "    'uniqueid': test.uniqueid,\n",
    "    'bank_account_rfc': pred,\n",
    "    'svc':svc.predict(test.drop('uniqueid', axis=1)),\n",
    "    'multinomial nb': clf.predict(test.drop('uniqueid', axis=1))}, )"
   ]
  },
  {
   "cell_type": "code",
   "execution_count": 35,
   "metadata": {},
   "outputs": [
    {
     "data": {
      "text/plain": [
       "1.0    10086\n",
       "Name: bank_account_rfc, dtype: int64"
      ]
     },
     "execution_count": 35,
     "metadata": {},
     "output_type": "execute_result"
    }
   ],
   "source": [
    "out.bank_account_rfc.value_counts()"
   ]
  },
  {
   "cell_type": "code",
   "execution_count": 36,
   "metadata": {},
   "outputs": [
    {
     "data": {
      "text/plain": [
       "0    9606\n",
       "1     480\n",
       "Name: svc, dtype: int64"
      ]
     },
     "execution_count": 36,
     "metadata": {},
     "output_type": "execute_result"
    }
   ],
   "source": [
    "out.svc.value_counts()"
   ]
  },
  {
   "cell_type": "code",
   "execution_count": 37,
   "metadata": {},
   "outputs": [
    {
     "data": {
      "text/plain": [
       "0    9871\n",
       "1     215\n",
       "Name: multinomial nb, dtype: int64"
      ]
     },
     "execution_count": 37,
     "metadata": {},
     "output_type": "execute_result"
    }
   ],
   "source": [
    "out['multinomial nb'].value_counts()"
   ]
  },
  {
   "cell_type": "code",
   "execution_count": 38,
   "metadata": {},
   "outputs": [
    {
     "data": {
      "text/plain": [
       "DecisionTreeClassifier(class_weight=None, criterion='gini', max_depth=None,\n",
       "                       max_features=None, max_leaf_nodes=None,\n",
       "                       min_impurity_decrease=0.0, min_impurity_split=None,\n",
       "                       min_samples_leaf=1, min_samples_split=2,\n",
       "                       min_weight_fraction_leaf=0.0, presort=False,\n",
       "                       random_state=None, splitter='best')"
      ]
     },
     "execution_count": 38,
     "metadata": {},
     "output_type": "execute_result"
    }
   ],
   "source": [
    "import sklearn\n",
    "\n",
    "from sklearn.tree import DecisionTreeClassifier\n",
    "\n",
    "d = DecisionTreeClassifier()\n",
    "d.fit(X, y)"
   ]
  },
  {
   "cell_type": "code",
   "execution_count": 41,
   "metadata": {},
   "outputs": [
    {
     "data": {
      "text/plain": [
       "\u001b[1;31mType:\u001b[0m        module\n",
       "\u001b[1;31mString form:\u001b[0m <module 'sklearn.tree' from 'C:\\\\Users\\\\user\\\\Anaconda3\\\\lib\\\\site-packages\\\\sklearn\\\\tree\\\\__init__.py'>\n",
       "\u001b[1;31mFile:\u001b[0m        c:\\users\\user\\anaconda3\\lib\\site-packages\\sklearn\\tree\\__init__.py\n",
       "\u001b[1;31mDocstring:\u001b[0m  \n",
       "The :mod:`sklearn.tree` module includes decision tree-based models for\n",
       "classification and regression.\n"
      ]
     },
     "metadata": {},
     "output_type": "display_data"
    }
   ],
   "source": [
    "sklearn.tree?"
   ]
  },
  {
   "cell_type": "code",
   "execution_count": 43,
   "metadata": {},
   "outputs": [],
   "source": [
    "from sklearn.model_selection import cross_val_score\n",
    "\n",
    "def cv(clf, X=X, y=y):\n",
    "    return cross_val_score(clf, X, y, scoring='accuracy')"
   ]
  },
  {
   "cell_type": "code",
   "execution_count": 44,
   "metadata": {},
   "outputs": [
    {
     "name": "stderr",
     "output_type": "stream",
     "text": [
      "C:\\Users\\user\\Anaconda3\\lib\\site-packages\\sklearn\\model_selection\\_split.py:1978: FutureWarning: The default value of cv will change from 3 to 5 in version 0.22. Specify it explicitly to silence this warning.\n",
      "  warnings.warn(CV_WARNING, FutureWarning)\n",
      "C:\\Users\\user\\Anaconda3\\lib\\site-packages\\sklearn\\svm\\base.py:193: FutureWarning: The default value of gamma will change from 'auto' to 'scale' in version 0.22 to account better for unscaled features. Set gamma explicitly to 'auto' or 'scale' to avoid this warning.\n",
      "  \"avoid this warning.\", FutureWarning)\n",
      "C:\\Users\\user\\Anaconda3\\lib\\site-packages\\sklearn\\svm\\base.py:193: FutureWarning: The default value of gamma will change from 'auto' to 'scale' in version 0.22 to account better for unscaled features. Set gamma explicitly to 'auto' or 'scale' to avoid this warning.\n",
      "  \"avoid this warning.\", FutureWarning)\n",
      "C:\\Users\\user\\Anaconda3\\lib\\site-packages\\sklearn\\svm\\base.py:193: FutureWarning: The default value of gamma will change from 'auto' to 'scale' in version 0.22 to account better for unscaled features. Set gamma explicitly to 'auto' or 'scale' to avoid this warning.\n",
      "  \"avoid this warning.\", FutureWarning)\n"
     ]
    },
    {
     "data": {
      "text/plain": [
       "0.7698606050459896"
      ]
     },
     "execution_count": 44,
     "metadata": {},
     "output_type": "execute_result"
    }
   ],
   "source": [
    "cv(svc).mean()"
   ]
  },
  {
   "cell_type": "code",
   "execution_count": 46,
   "metadata": {},
   "outputs": [
    {
     "name": "stderr",
     "output_type": "stream",
     "text": [
      "C:\\Users\\user\\Anaconda3\\lib\\site-packages\\sklearn\\model_selection\\_split.py:1978: FutureWarning: The default value of cv will change from 3 to 5 in version 0.22. Specify it explicitly to silence this warning.\n",
      "  warnings.warn(CV_WARNING, FutureWarning)\n"
     ]
    },
    {
     "data": {
      "text/plain": [
       "0.8564023188795357"
      ]
     },
     "execution_count": 46,
     "metadata": {},
     "output_type": "execute_result"
    }
   ],
   "source": [
    "cv(clf).mean()\n",
    "\n"
   ]
  },
  {
   "cell_type": "code",
   "execution_count": 47,
   "metadata": {},
   "outputs": [
    {
     "name": "stderr",
     "output_type": "stream",
     "text": [
      "C:\\Users\\user\\Anaconda3\\lib\\site-packages\\sklearn\\model_selection\\_split.py:1978: FutureWarning: The default value of cv will change from 3 to 5 in version 0.22. Specify it explicitly to silence this warning.\n",
      "  warnings.warn(CV_WARNING, FutureWarning)\n",
      "C:\\Users\\user\\Anaconda3\\lib\\site-packages\\sklearn\\ensemble\\forest.py:245: FutureWarning: The default value of n_estimators will change from 10 in version 0.20 to 100 in 0.22.\n",
      "  \"10 in version 0.20 to 100 in 0.22.\", FutureWarning)\n",
      "C:\\Users\\user\\Anaconda3\\lib\\site-packages\\sklearn\\ensemble\\forest.py:245: FutureWarning: The default value of n_estimators will change from 10 in version 0.20 to 100 in 0.22.\n",
      "  \"10 in version 0.20 to 100 in 0.22.\", FutureWarning)\n",
      "C:\\Users\\user\\Anaconda3\\lib\\site-packages\\sklearn\\ensemble\\forest.py:245: FutureWarning: The default value of n_estimators will change from 10 in version 0.20 to 100 in 0.22.\n",
      "  \"10 in version 0.20 to 100 in 0.22.\", FutureWarning)\n"
     ]
    },
    {
     "data": {
      "text/plain": [
       "0.7086934769806383"
      ]
     },
     "execution_count": 47,
     "metadata": {},
     "output_type": "execute_result"
    }
   ],
   "source": [
    "cv(RandomForestClassifier()).mean()"
   ]
  },
  {
   "cell_type": "code",
   "execution_count": 49,
   "metadata": {},
   "outputs": [],
   "source": [
    "from sklearn.datasets import fetch_openml"
   ]
  },
  {
   "cell_type": "code",
   "execution_count": 50,
   "metadata": {},
   "outputs": [
    {
     "data": {
      "text/plain": [
       "\u001b[1;31mSignature:\u001b[0m \u001b[0mfetch_openml\u001b[0m\u001b[1;33m(\u001b[0m\u001b[0mname\u001b[0m\u001b[1;33m=\u001b[0m\u001b[1;32mNone\u001b[0m\u001b[1;33m,\u001b[0m \u001b[0mversion\u001b[0m\u001b[1;33m=\u001b[0m\u001b[1;34m'active'\u001b[0m\u001b[1;33m,\u001b[0m \u001b[0mdata_id\u001b[0m\u001b[1;33m=\u001b[0m\u001b[1;32mNone\u001b[0m\u001b[1;33m,\u001b[0m \u001b[0mdata_home\u001b[0m\u001b[1;33m=\u001b[0m\u001b[1;32mNone\u001b[0m\u001b[1;33m,\u001b[0m \u001b[0mtarget_column\u001b[0m\u001b[1;33m=\u001b[0m\u001b[1;34m'default-target'\u001b[0m\u001b[1;33m,\u001b[0m \u001b[0mcache\u001b[0m\u001b[1;33m=\u001b[0m\u001b[1;32mTrue\u001b[0m\u001b[1;33m,\u001b[0m \u001b[0mreturn_X_y\u001b[0m\u001b[1;33m=\u001b[0m\u001b[1;32mFalse\u001b[0m\u001b[1;33m)\u001b[0m\u001b[1;33m\u001b[0m\u001b[0m\n",
       "\u001b[1;31mDocstring:\u001b[0m\n",
       "Fetch dataset from openml by name or dataset id.\n",
       "\n",
       "Datasets are uniquely identified by either an integer ID or by a\n",
       "combination of name and version (i.e. there might be multiple\n",
       "versions of the 'iris' dataset). Please give either name or data_id\n",
       "(not both). In case a name is given, a version can also be\n",
       "provided.\n",
       "\n",
       "Read more in the :ref:`User Guide <openml>`.\n",
       "\n",
       ".. note:: EXPERIMENTAL\n",
       "\n",
       "    The API is experimental (particularly the return value structure),\n",
       "    and might have small backward-incompatible changes in future releases.\n",
       "\n",
       "Parameters\n",
       "----------\n",
       "name : str or None\n",
       "    String identifier of the dataset. Note that OpenML can have multiple\n",
       "    datasets with the same name.\n",
       "\n",
       "version : integer or 'active', default='active'\n",
       "    Version of the dataset. Can only be provided if also ``name`` is given.\n",
       "    If 'active' the oldest version that's still active is used. Since\n",
       "    there may be more than one active version of a dataset, and those\n",
       "    versions may fundamentally be different from one another, setting an\n",
       "    exact version is highly recommended.\n",
       "\n",
       "data_id : int or None\n",
       "    OpenML ID of the dataset. The most specific way of retrieving a\n",
       "    dataset. If data_id is not given, name (and potential version) are\n",
       "    used to obtain a dataset.\n",
       "\n",
       "data_home : string or None, default None\n",
       "    Specify another download and cache folder for the data sets. By default\n",
       "    all scikit-learn data is stored in '~/scikit_learn_data' subfolders.\n",
       "\n",
       "target_column : string, list or None, default 'default-target'\n",
       "    Specify the column name in the data to use as target. If\n",
       "    'default-target', the standard target column a stored on the server\n",
       "    is used. If ``None``, all columns are returned as data and the\n",
       "    target is ``None``. If list (of strings), all columns with these names\n",
       "    are returned as multi-target (Note: not all scikit-learn classifiers\n",
       "    can handle all types of multi-output combinations)\n",
       "\n",
       "cache : boolean, default=True\n",
       "    Whether to cache downloaded datasets using joblib.\n",
       "\n",
       "return_X_y : boolean, default=False.\n",
       "    If True, returns ``(data, target)`` instead of a Bunch object. See\n",
       "    below for more information about the `data` and `target` objects.\n",
       "\n",
       "Returns\n",
       "-------\n",
       "\n",
       "data : Bunch\n",
       "    Dictionary-like object, with attributes:\n",
       "\n",
       "    data : np.array or scipy.sparse.csr_matrix of floats\n",
       "        The feature matrix. Categorical features are encoded as ordinals.\n",
       "    target : np.array\n",
       "        The regression target or classification labels, if applicable.\n",
       "        Dtype is float if numeric, and object if categorical.\n",
       "    DESCR : str\n",
       "        The full description of the dataset\n",
       "    feature_names : list\n",
       "        The names of the dataset columns\n",
       "    categories : dict\n",
       "        Maps each categorical feature name to a list of values, such\n",
       "        that the value encoded as i is ith in the list.\n",
       "    details : dict\n",
       "        More metadata from OpenML\n",
       "\n",
       "(data, target) : tuple if ``return_X_y`` is True\n",
       "\n",
       "    .. note:: EXPERIMENTAL\n",
       "\n",
       "        This interface is **experimental** and subsequent releases may\n",
       "        change attributes without notice (although there should only be\n",
       "        minor changes to ``data`` and ``target``).\n",
       "\n",
       "    Missing values in the 'data' are represented as NaN's. Missing values\n",
       "    in 'target' are represented as NaN's (numerical target) or None\n",
       "    (categorical target)\n",
       "\u001b[1;31mFile:\u001b[0m      c:\\users\\user\\anaconda3\\lib\\site-packages\\sklearn\\datasets\\openml.py\n",
       "\u001b[1;31mType:\u001b[0m      function\n"
      ]
     },
     "metadata": {},
     "output_type": "display_data"
    }
   ],
   "source": [
    "fetch_openml?"
   ]
  },
  {
   "cell_type": "code",
   "execution_count": null,
   "metadata": {},
   "outputs": [],
   "source": []
  }
 ],
 "metadata": {
  "kernelspec": {
   "display_name": "Python 3",
   "language": "python",
   "name": "python3"
  },
  "language_info": {
   "codemirror_mode": {
    "name": "ipython",
    "version": 3
   },
   "file_extension": ".py",
   "mimetype": "text/x-python",
   "name": "python",
   "nbconvert_exporter": "python",
   "pygments_lexer": "ipython3",
   "version": "3.6.4"
  }
 },
 "nbformat": 4,
 "nbformat_minor": 4
}
